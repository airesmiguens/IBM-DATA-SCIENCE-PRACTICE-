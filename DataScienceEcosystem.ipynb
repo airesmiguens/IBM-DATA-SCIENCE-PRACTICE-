{
  "nbformat": 4,
  "nbformat_minor": 0,
  "metadata": {
    "colab": {
      "provenance": []
    },
    "kernelspec": {
      "name": "python3",
      "display_name": "Python 3"
    },
    "language_info": {
      "name": "python"
    }
  },
  "cells": [
    {
      "cell_type": "markdown",
      "source": [
        "# Data Science Tools and Ecosystem"
      ],
      "metadata": {
        "id": "N_3CKsRKn_qD"
      }
    },
    {
      "cell_type": "markdown",
      "source": [
        "# In this notebook, Data Science Tools and Ecosystem are summarized"
      ],
      "metadata": {
        "id": "xD8eVRhJy19y"
      }
    },
    {
      "cell_type": "markdown",
      "source": [
        "\n",
        "### **Objectives**\n",
        "*   Describe the components of Data Science ToolKit\n",
        "*   list the open source and comercial data science tools\n",
        "*   List examples of cloud-based Data Science tools\n",
        "*   Understand what an API is and it's functions \n",
        "*   Be familiar with the most commonly used data science tools and libraries\n",
        "*   Download and install Anaconda, Jupyter notebook and R. \n",
        "*   Open a GitHub account, creat a repository and manage file on GitHub GitHub repositories.\n",
        "\n"
      ],
      "metadata": {
        "id": "bnCimj5BBRtK"
      }
    },
    {
      "cell_type": "markdown",
      "source": [
        "# Some of the popular languages that Data Scientists use are:"
      ],
      "metadata": {
        "id": "rNiMYx__zeHb"
      }
    },
    {
      "cell_type": "markdown",
      "source": [
        "1. Python\n",
        "2. R\n",
        "3. Java\n",
        "4. Scala\n",
        "5. Apatche\n",
        "6. Julia\n",
        "7. Java Script\n",
        "8. SQL\n",
        "9. C++  "
      ],
      "metadata": {
        "id": "hDFF_mOX2rcl"
      }
    },
    {
      "cell_type": "markdown",
      "source": [
        "## Some of the commonly used libraries used by Data Scientists include:"
      ],
      "metadata": {
        "id": "zTY1vLyB4pes"
      }
    },
    {
      "cell_type": "markdown",
      "source": [
        "1. Numpy\n",
        "2. matPlot\n",
        "3. Tensorflow\n",
        "4. Keras\n",
        "5. Scikitlearn\n",
        "6. Dplyr \n",
        "7. Stringr\n",
        "9. ggplot2\n",
        "10. ggplot\n",
        "11. caret\n"
      ],
      "metadata": {
        "id": "9LZW9FZ06GB0"
      }
    },
    {
      "cell_type": "markdown",
      "source": [
        "|Data Science Tools|\n",
        "-\n",
        "|Jupyter notebook|\n",
        "|Jupyter Lab |\n",
        "|Rstudio |\n",
        "|Apache zepplin|\n",
        "|Visual Studio Code|"
      ],
      "metadata": {
        "id": "Gq3q3W3j60Yc"
      }
    },
    {
      "cell_type": "markdown",
      "source": [
        "### Below are a few examples of evaluating arithmetic expressions in Python"
      ],
      "metadata": {
        "id": "zLjKR23Q9as9"
      }
    },
    {
      "cell_type": "code",
      "source": [
        "(3*4)+5"
      ],
      "metadata": {
        "colab": {
          "base_uri": "https://localhost:8080/"
        },
        "id": "zJPINVAF9xOc",
        "outputId": "cae01113-5339-474d-b4e5-66eef03637da"
      },
      "execution_count": 5,
      "outputs": [
        {
          "output_type": "execute_result",
          "data": {
            "text/plain": [
              "17"
            ]
          },
          "metadata": {},
          "execution_count": 5
        }
      ]
    },
    {
      "cell_type": "code",
      "source": [
        "# This will convert 200 minutes to hours by diving by 60 "
      ],
      "metadata": {
        "id": "Hvqu35vZ-l4N"
      },
      "execution_count": 7,
      "outputs": []
    },
    {
      "cell_type": "code",
      "source": [
        "time_minutes = 200\n",
        "time_hour = time_minutes/60\n",
        "\n",
        "print ('time in hour is equal to', time_hour)"
      ],
      "metadata": {
        "colab": {
          "base_uri": "https://localhost:8080/"
        },
        "id": "lXWn-Au2-8L2",
        "outputId": "4ab831bf-4ac6-4922-c91a-c186a3da651b"
      },
      "execution_count": 14,
      "outputs": [
        {
          "output_type": "stream",
          "name": "stdout",
          "text": [
            "time in hour is equal to 3.3333333333333335\n"
          ]
        }
      ]
    },
    {
      "cell_type": "markdown",
      "source": [
        "## Author:\n",
        "Aires Augusto Miguêns"
      ],
      "metadata": {
        "id": "XEuYNFD3Eit9"
      }
    }
  ]
}